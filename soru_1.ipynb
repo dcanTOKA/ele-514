{
 "cells": [
  {
   "cell_type": "code",
   "execution_count": 17,
   "metadata": {},
   "outputs": [],
   "source": [
    "import numpy as np\n",
    "import matplotlib.pyplot as plt"
   ]
  },
  {
   "cell_type": "code",
   "execution_count": 18,
   "metadata": {},
   "outputs": [],
   "source": [
    "def dx1(x1, x2):\n",
    "    return x2 - (2 * (x1 * x2))"
   ]
  },
  {
   "cell_type": "code",
   "execution_count": 19,
   "metadata": {},
   "outputs": [],
   "source": [
    "def dx2(x1, x2, t, u):\n",
    "    return -x1 + x1**2 + x2**2 + (3*t*u)"
   ]
  },
  {
   "cell_type": "code",
   "execution_count": 20,
   "metadata": {},
   "outputs": [],
   "source": [
    "# time points and definition of unit step\n",
    "t = np.arange(0,6,0.1)\n",
    "h = 0.1\n",
    "n = len(t)\n",
    "u = np.ones(n)\n",
    "u[21:] = 0.0"
   ]
  },
  {
   "cell_type": "code",
   "execution_count": 12,
   "metadata": {},
   "outputs": [],
   "source": [
    "# define x1 and x2\n",
    "x1 = np.zeros(n)\n",
    "x2 = np.zeros(n)"
   ]
  },
  {
   "cell_type": "code",
   "execution_count": 13,
   "metadata": {},
   "outputs": [],
   "source": [
    "# define initial values\n",
    "x1[0] = 1.0\n",
    "x2[0] = 0.0"
   ]
  },
  {
   "cell_type": "code",
   "execution_count": 14,
   "metadata": {},
   "outputs": [
    {
     "name": "stdout",
     "output_type": "stream",
     "text": [
      "Iter : 1 --- x1 : 1.0 --- x2: 0.0 --- Time : 0.1\n",
      "Iter : 2 --- x1 : 1.0 --- x2: 0.030000000000000006 --- Time : 0.2\n",
      "Iter : 3 --- x1 : 0.997 --- x2: 0.09009000000000002 --- Time : 0.30000000000000004\n",
      "Iter : 4 --- x1 : 0.988045054 --- x2: 0.18060252081000006 --- Time : 0.4\n",
      "Iter : 5 --- x1 : 0.9704166205957494 --- x2: 0.302683045335679 --- Time : 0.5\n",
      "Iter : 6 --- x1 : 0.9419391935360614 --- x2: 0.45897392762231964 --- Time : 0.6000000000000001\n",
      "Iter : 7 --- x1 : 0.9013714800505641 --- x2: 0.6545706593243559 --- Time : 0.7000000000000001\n",
      "Iter : 8 --- x1 : 0.848826281184426 --- x2: 0.8985268406289861 --- Time : 0.8\n",
      "Iter : 9 --- x1 : 0.7861403259122259 --- x2: 1.2064298664065527 --- Time : 0.9\n",
      "Iter : 10 --- x1 : 0.7170986788794631 --- x2: 1.6051647972736416 --- Time : 1.0\n",
      "Iter : 11 --- x1 : 0.6474028475050774 --- x2: 2.1425333835514158 --- Time : 1.1\n",
      "Iter : 12 --- x1 : 0.5842397431830441 --- x2: 2.908751073459904 --- Time : 1.2000000000000002\n",
      "Iter : 13 --- x1 : 0.5352332545007109 --- x2: 4.090543987628473 --- Time : 1.3\n",
      "Iter : 14 --- x1 : 0.5064086190282175 --- x2: 6.128923137323088 --- Time : 1.4000000000000001\n",
      "Iter : 15 --- x1 : 0.49855303234015125 --- x2: 10.280297126684303 --- Time : 1.5\n",
      "Iter : 16 --- x1 : 0.5015280838353409 --- x2: 21.2737482373472 --- Time : 1.6\n",
      "Iter : 17 --- x1 : 0.4950264696756207 --- x2: 66.98598487745454 --- Time : 1.7000000000000002\n",
      "Iter : 18 --- x1 : 0.561657835094907 --- x2: 516.1832043513118 --- Time : 1.8\n",
      "Iter : 19 --- x1 : -5.803689943435863 --- x2: 27161.20862995899 --- Time : 1.9000000000000001\n",
      "Iter : 20 --- x1 : 34237.36384850374 --- x2: 73800291.15129654 --- Time : 2.0\n",
      "Iter : 21 --- x1 : -505338069788.01117 --- x2: 544648488418190.25 --- Time : 2.1\n",
      "Iter : 22 --- x1 : 5.5046323170095206e+25 --- x2: 2.9664223130278975e+28 --- Time : 2.2\n",
      "Iter : 23 --- x1 : -3.2658128260383e+53 --- x2: 8.799691640206726e+55 --- Time : 2.3000000000000003\n",
      "Iter : 24 --- x1 : 5.747629164753827e+108 --- x2: 7.743563951606562e+110 --- Time : 2.4000000000000004\n",
      "Iter : 25 --- x1 : -8.901426801478054e+218 --- x2: 5.99660861967222e+220 --- Time : 2.5\n",
      "Iter : 26 --- x1 : inf --- x2: inf --- Time : 2.6\n",
      "Iter : 27 --- x1 : nan --- x2: nan --- Time : 2.7\n",
      "Iter : 28 --- x1 : nan --- x2: nan --- Time : 2.8000000000000003\n",
      "Iter : 29 --- x1 : nan --- x2: nan --- Time : 2.9000000000000004\n",
      "Iter : 30 --- x1 : nan --- x2: nan --- Time : 3.0\n",
      "Iter : 31 --- x1 : nan --- x2: nan --- Time : 3.1\n",
      "Iter : 32 --- x1 : nan --- x2: nan --- Time : 3.2\n",
      "Iter : 33 --- x1 : nan --- x2: nan --- Time : 3.3000000000000003\n",
      "Iter : 34 --- x1 : nan --- x2: nan --- Time : 3.4000000000000004\n",
      "Iter : 35 --- x1 : nan --- x2: nan --- Time : 3.5\n",
      "Iter : 36 --- x1 : nan --- x2: nan --- Time : 3.6\n",
      "Iter : 37 --- x1 : nan --- x2: nan --- Time : 3.7\n",
      "Iter : 38 --- x1 : nan --- x2: nan --- Time : 3.8000000000000003\n",
      "Iter : 39 --- x1 : nan --- x2: nan --- Time : 3.9000000000000004\n",
      "Iter : 40 --- x1 : nan --- x2: nan --- Time : 4.0\n",
      "Iter : 41 --- x1 : nan --- x2: nan --- Time : 4.1000000000000005\n",
      "Iter : 42 --- x1 : nan --- x2: nan --- Time : 4.2\n",
      "Iter : 43 --- x1 : nan --- x2: nan --- Time : 4.3\n",
      "Iter : 44 --- x1 : nan --- x2: nan --- Time : 4.4\n",
      "Iter : 45 --- x1 : nan --- x2: nan --- Time : 4.5\n",
      "Iter : 46 --- x1 : nan --- x2: nan --- Time : 4.6000000000000005\n",
      "Iter : 47 --- x1 : nan --- x2: nan --- Time : 4.7\n",
      "Iter : 48 --- x1 : nan --- x2: nan --- Time : 4.800000000000001\n",
      "Iter : 49 --- x1 : nan --- x2: nan --- Time : 4.9\n",
      "Iter : 50 --- x1 : nan --- x2: nan --- Time : 5.0\n",
      "Iter : 51 --- x1 : nan --- x2: nan --- Time : 5.1000000000000005\n",
      "Iter : 52 --- x1 : nan --- x2: nan --- Time : 5.2\n",
      "Iter : 53 --- x1 : nan --- x2: nan --- Time : 5.300000000000001\n",
      "Iter : 54 --- x1 : nan --- x2: nan --- Time : 5.4\n",
      "Iter : 55 --- x1 : nan --- x2: nan --- Time : 5.5\n",
      "Iter : 56 --- x1 : nan --- x2: nan --- Time : 5.6000000000000005\n",
      "Iter : 57 --- x1 : nan --- x2: nan --- Time : 5.7\n",
      "Iter : 58 --- x1 : nan --- x2: nan --- Time : 5.800000000000001\n",
      "Iter : 59 --- x1 : nan --- x2: nan --- Time : 5.9\n"
     ]
    },
    {
     "name": "stderr",
     "output_type": "stream",
     "text": [
      "<ipython-input-2-1d106c9c9954>:2: RuntimeWarning: overflow encountered in double_scalars\n",
      "  return x2 - (2 * (x1 * x2))\n",
      "<ipython-input-2-1d106c9c9954>:2: RuntimeWarning: invalid value encountered in double_scalars\n",
      "  return x2 - (2 * (x1 * x2))\n"
     ]
    }
   ],
   "source": [
    "# Euler method loop \n",
    "\n",
    "for i in range(1,n):\n",
    "    x1[i] = x1[i-1] + ( h * dx1(x1[i-1], x2[i-1]) )\n",
    "    x2[i] = x2[i-1] + ( h * dx2(x1[i-1], x2[i-1], t[i-1], u[i-1]) )\n",
    "    print(f'Iter : {i} --- x1 : {x1[i]} --- x2: {x2[i]} --- Time : {t[i]}')\n",
    "    "
   ]
  },
  {
   "cell_type": "code",
   "execution_count": 15,
   "metadata": {},
   "outputs": [],
   "source": [
    "# Helper method to plot the result\n",
    "\n",
    "def plot_result(x, y, u, t):\n",
    "    plt.plot(t, u, 'k:')\n",
    "    plt.plot(t, x, 'r-')\n",
    "    plt.plot(t, y, 'b--')\n",
    "    plt.xlabel('time')\n",
    "    plt.legend(['u(t)', 'x1(t)', 'x2(t)'])\n",
    "    plt.show"
   ]
  },
  {
   "cell_type": "code",
   "execution_count": 16,
   "metadata": {},
   "outputs": [
    {
     "data": {
      "image/png": "[encoded data removed]",
      "text/plain": [
       "<Figure size 432x288 with 1 Axes>"
      ]
     },
     "metadata": {
      "needs_background": "light"
     },
     "output_type": "display_data"
    }
   ],
   "source": [
    "plot_result(x1, x2, u, t)"
   ]
  },
  {
   "cell_type": "code",
   "execution_count": null,
   "metadata": {},
   "outputs": [],
   "source": []
  }
 ],
 "metadata": {
  "kernelspec": {
   "display_name": "Python 3",
   "language": "python",
   "name": "python3"
  },
  "language_info": {
   "codemirror_mode": {
    "name": "ipython",
    "version": 3
   },
   "file_extension": ".py",
   "mimetype": "text/x-python",
   "name": "python",
   "nbconvert_exporter": "python",
   "pygments_lexer": "ipython3",
   "version": "3.8.5"
  }
 },
 "nbformat": 4,
 "nbformat_minor": 4
}
