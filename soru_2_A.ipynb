{
 "cells": [
  {
   "cell_type": "code",
   "execution_count": 1,
   "metadata": {},
   "outputs": [],
   "source": [
    "import numpy as np\n",
    "import matplotlib.pyplot as plt"
   ]
  },
  {
   "cell_type": "code",
   "execution_count": 2,
   "metadata": {},
   "outputs": [],
   "source": [
    "def dx1(x1, x2, t):\n",
    "    return ( (-t) / (1 + t**2) ) * x1 + x2"
   ]
  },
  {
   "cell_type": "code",
   "execution_count": 3,
   "metadata": {},
   "outputs": [],
   "source": [
    "def dx2(x1, x2, t):\n",
    "    return ( (-4 * t) / (1 + t**2) ) * x2"
   ]
  },
  {
   "cell_type": "code",
   "execution_count": 4,
   "metadata": {},
   "outputs": [],
   "source": [
    "# time points and definition of unit step\n",
    "t = np.arange(0,5,0.1)\n",
    "h = 0.1\n",
    "n = len(t)\n",
    "#u = np.ones(n)\n",
    "#u[2:] = 0.0"
   ]
  },
  {
   "cell_type": "code",
   "execution_count": 5,
   "metadata": {},
   "outputs": [],
   "source": [
    "# define x1 and x2\n",
    "x1 = np.zeros(n)\n",
    "x2 = np.zeros(n)"
   ]
  },
  {
   "cell_type": "code",
   "execution_count": 6,
   "metadata": {},
   "outputs": [],
   "source": [
    "# define initial values\n",
    "x1[0] = 1.0\n",
    "x2[0] = 1.0"
   ]
  },
  {
   "cell_type": "code",
   "execution_count": 7,
   "metadata": {},
   "outputs": [
    {
     "name": "stdout",
     "output_type": "stream",
     "text": [
      "Iter : 1 --- x1 : 1.1 --- x2: 1.0 --- Time : 0.1\n",
      "Iter : 2 --- x1 : 1.1891089108910893 --- x2: 0.9603960396039604 --- Time : 0.2\n",
      "Iter : 3 --- x1 : 1.2622810357958874 --- x2: 0.8865194211728865 --- Time : 0.30000000000000004\n",
      "Iter : 4 --- x1 : 1.3161912980288855 --- x2: 0.7889209527868807 --- Time : 0.4\n",
      "Iter : 5 --- x1 : 1.3496974864789912 --- x2: 0.6801042696438626 --- Time : 0.5\n",
      "Iter : 6 --- x1 : 1.3637200139842178 --- x2: 0.5712875865008445 --- Time : 0.6000000000000001\n",
      "Iter : 7 --- x1 : 1.3606846543702926 --- x2: 0.47047213005951904 --- Time : 0.7000000000000001\n",
      "Iter : 8 --- x1 : 1.3438070849561636 --- x2: 0.38206125998122015 --- Time : 0.8\n",
      "Iter : 9 --- x1 : 1.316461645834473 --- x2: 0.3075127214482991 --- Time : 0.9\n",
      "Iter : 10 --- x1 : 1.281753499125655 --- x2: 0.2463499702210131 --- Time : 1.0\n",
      "Iter : 11 --- x1 : 1.2423008211914734 --- x2: 0.19707997617681047 --- Time : 1.1\n",
      "Iter : 12 --- x1 : 1.200174841283787 --- x2: 0.1578423338610654 --- Time : 1.2000000000000002\n",
      "Iter : 13 --- x1 : 1.156934082475609 --- x2: 0.1267913829375771 --- Time : 1.3\n",
      "Iter : 14 --- x1 : 1.1137019082333706 --- x2: 0.10228152452585217 --- Time : 1.4000000000000001\n",
      "Iter : 15 --- x1 : 1.0712549704316747 --- x2: 0.08293096583177202 --- Time : 1.5\n",
      "Iter : 16 --- x1 : 1.0301055299180053 --- x2: 0.06762063367821411 --- Time : 1.6\n",
      "Iter : 17 --- x1 : 0.9905707155367028 --- x2: 0.055464115264153145 --- Time : 1.7000000000000002\n",
      "Iter : 18 --- x1 : 0.9528274042761671 --- x2: 0.04576858868841429 --- Time : 1.8\n",
      "Iter : 19 --- x1 : 0.9169540431521523 --- x2: 0.03799656419415526 --- Time : 1.9000000000000001\n",
      "Iter : 20 --- x1 : 0.8829616674242992 --- x2: 0.031732488535248966 --- Time : 2.0\n",
      "Iter : 21 --- x1 : 0.8508164495808521 --- x2: 0.026655290369609133 --- Time : 2.1\n",
      "Iter : 22 --- x1 : 0.8204558317764121 --- x2: 0.022516576153255773 --- Time : 2.2\n",
      "Iter : 23 --- x1 : 0.7917999066878317 --- x2: 0.019123667417833667 --- Time : 2.3000000000000003\n",
      "Iter : 24 --- x1 : 0.7647593356651952 --- x2: 0.016326565029215707 --- Time : 2.4000000000000004\n",
      "Iter : 25 --- x1 : 0.7392407731504175 --- x2: 0.014007999581279748 --- Time : 2.5\n",
      "Iter : 26 --- x1 : 0.7151505119654276 --- x2: 0.012075861707999782 --- Time : 2.6\n",
      "Iter : 27 --- x1 : 0.6923968696425405 --- x2: 0.010457447252288471 --- Time : 2.7\n",
      "Iter : 28 --- x1 : 0.6708916909897855 --- x2: 0.009095077767068742 --- Time : 2.8000000000000003\n",
      "Iter : 29 --- x1 : 0.6505512357034675 --- x2: 0.00794276022191976 --- Time : 2.9000000000000004\n",
      "Iter : 30 --- x1 : 0.6312966426125877 --- x2: 0.00696363143792115 --- Time : 3.0\n",
      "Iter : 31 --- x1 : 0.6130541064780022 --- x2: 0.006127995665370613 --- Time : 3.1\n",
      "Iter : 32 --- x1 : 0.5957548633481979 --- x2: 0.005411811440577063 --- Time : 3.2\n",
      "Iter : 33 --- x1 : 0.5793350519414173 --- x2: 0.004795519746276473 --- Time : 3.3000000000000003\n",
      "Iter : 34 --- x1 : 0.5637354981851226 --- x2: 0.004263132356445948 --- Time : 3.4000000000000004\n",
      "Iter : 35 --- x1 : 0.5489014555781763 --- x2: 0.0038015192987416093 --- Time : 3.5\n",
      "Iter : 36 --- x1 : 0.5347823237757967 --- x2: 0.0033998493351009864 --- Time : 3.6\n",
      "Iter : 37 --- x1 : 0.5213313605317075 --- x2: 0.0030491485440877044 --- Time : 3.7\n",
      "Iter : 38 --- x1 : 0.5085053970064884 --- x2: 0.002741950460680638 --- Time : 3.8000000000000003\n",
      "Iter : 39 --- x1 : 0.49626456285161963 --- x2: 0.002472017513774254 --- Time : 3.9000000000000004\n",
      "Iter : 40 --- x1 : 0.4845720249662215 --- x2: 0.0022341182342253438 --- Time : 4.0\n",
      "Iter : 41 --- x1 : 0.4733937420845564 --- x2: 0.002023848282768841 --- Time : 4.1000000000000005\n",
      "Iter : 42 --- x1 : 0.4626982361629923 --- x2: 0.0018374860602118 --- Time : 4.2\n",
      "Iter : 43 --- x1 : 0.45245638073529804 --- x2: 0.0016718757286047277 --- Time : 4.3\n",
      "Iter : 44 --- x1 : 0.44264120588044287 --- x2: 0.0015243320521963065 --- Time : 4.4\n",
      "Iter : 45 --- x1 : 0.43322771911575114 --- x2: 0.0013925626802972152 --- Time : 4.5\n",
      "Iter : 46 --- x1 : 0.4241927413319179 --- x2: 0.0012746044297308628 --- Time : 4.6000000000000005\n",
      "Iter : 47 --- x1 : 0.415514756783344 --- x2: 0.001168770848922885 --- Time : 4.7\n",
      "Iter : 48 --- x1 : 0.4071737761078131 --- x2: 0.0010736089088633344 --- Time : 4.800000000000001\n",
      "Iter : 49 --- x1 : 0.39915121135261994 --- x2: 0.0009878631058259965 --- Time : 4.9\n"
     ]
    }
   ],
   "source": [
    "# Euler method loop \n",
    "\n",
    "for i in range(1,n):\n",
    "    x1[i] = x1[i-1] + ( h * dx1(x1[i-1], x2[i-1], t[i-1]) )\n",
    "    x2[i] = x2[i-1] + ( h * dx2(x1[i-1], x2[i-1], t[i-1]) )\n",
    "    print(f'Iter : {i} --- x1 : {x1[i]} --- x2: {x2[i]} --- Time : {t[i]}')\n",
    "    "
   ]
  },
  {
   "cell_type": "code",
   "execution_count": 8,
   "metadata": {},
   "outputs": [],
   "source": [
    "def plot_result(x, y, t):\n",
    "    plt.plot(t, x, 'r-')\n",
    "    plt.plot(t, y, 'b--')\n",
    "    plt.xlabel('time')\n",
    "    plt.legend(['x1(t)', 'x2(t)'])\n",
    "    plt.show"
   ]
  },
  {
   "cell_type": "code",
   "execution_count": 9,
   "metadata": {},
   "outputs": [
    {
     "data": {
      "image/png": "[encoded data removed]",
      "text/plain": [
       "<Figure size 432x288 with 1 Axes>"
      ]
     },
     "metadata": {
      "needs_background": "light"
     },
     "output_type": "display_data"
    }
   ],
   "source": [
    "plot_result(x1, x2, t)"
   ]
  },
  {
   "cell_type": "code",
   "execution_count": null,
   "metadata": {},
   "outputs": [],
   "source": []
  }
 ],
 "metadata": {
  "kernelspec": {
   "display_name": "Python 3",
   "language": "python",
   "name": "python3"
  },
  "language_info": {
   "codemirror_mode": {
    "name": "ipython",
    "version": 3
   },
   "file_extension": ".py",
   "mimetype": "text/x-python",
   "name": "python",
   "nbconvert_exporter": "python",
   "pygments_lexer": "ipython3",
   "version": "3.8.5"
  }
 },
 "nbformat": 4,
 "nbformat_minor": 4
}
