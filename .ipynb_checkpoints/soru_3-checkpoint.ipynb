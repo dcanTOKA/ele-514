{
 "cells": [
  {
   "cell_type": "code",
   "execution_count": 1,
   "metadata": {},
   "outputs": [],
   "source": [
    "import numpy as np\n",
    "import matplotlib.pyplot as plt"
   ]
  },
  {
   "cell_type": "code",
   "execution_count": 2,
   "metadata": {},
   "outputs": [],
   "source": [
    "def dx1(x1, x2):\n",
    "    return x2 - (2 * (x1 * x2))"
   ]
  },
  {
   "cell_type": "code",
   "execution_count": 3,
   "metadata": {},
   "outputs": [],
   "source": [
    "def dx2(x1, x2, t, u):\n",
    "    return -x1 + x1**2 + x2**2 + (3*t*u)"
   ]
  },
  {
   "cell_type": "code",
   "execution_count": 4,
   "metadata": {},
   "outputs": [],
   "source": [
    "# time points and definition of unit step\n",
    "t = np.arange(0,8,1)\n",
    "h = 1\n",
    "n = len(t)\n",
    "u = np.ones(n)\n",
    "u[2:] = 0.0"
   ]
  },
  {
   "cell_type": "code",
   "execution_count": 5,
   "metadata": {},
   "outputs": [],
   "source": [
    "# define x1 and x2\n",
    "x1 = np.zeros(n)\n",
    "x2 = np.zeros(n)"
   ]
  },
  {
   "cell_type": "code",
   "execution_count": 6,
   "metadata": {},
   "outputs": [],
   "source": [
    "# define initial values\n",
    "x1[0] = 1.0\n",
    "x2[0] = 0.0"
   ]
  },
  {
   "cell_type": "code",
   "execution_count": 7,
   "metadata": {},
   "outputs": [
    {
     "name": "stdout",
     "output_type": "stream",
     "text": [
      "Iter : 1 --- x1 : 1.0 --- x2: 0.0 --- Time : 1\n",
      "Iter : 2 --- x1 : 1.0 --- x2: 3.0 --- Time : 2\n",
      "Iter : 3 --- x1 : -2.0 --- x2: 12.0 --- Time : 3\n",
      "Iter : 4 --- x1 : 58.0 --- x2: 162.0 --- Time : 4\n",
      "Iter : 5 --- x1 : -18572.0 --- x2: 29712.0 --- Time : 5\n",
      "Iter : 6 --- x1 : 1103633668.0 --- x2: 1227770412.0 --- Time : 6\n",
      "Iter : 7 --- x1 : -2.7100175241834583e+18 --- x2: 2.725427457849921e+18 --- Time : 7\n"
     ]
    }
   ],
   "source": [
    "# Euler method loop \n",
    "\n",
    "for i in range(1,n):\n",
    "    x1[i] = x1[i-1] + ( h * dx1(x1[i-1], x2[i-1]) )\n",
    "    x2[i] = x2[i-1] + ( h * dx2(x1[i-1], x2[i-1], t[i-1], u[i-1]) )\n",
    "    print(f'Iter : {i} --- x1 : {x1[i]} --- x2: {x2[i]} --- Time : {t[i]}')\n",
    "    "
   ]
  },
  {
   "cell_type": "code",
   "execution_count": 8,
   "metadata": {},
   "outputs": [],
   "source": [
    "# Helper method to plot the result\n",
    "\n",
    "def plot_result(x, y, u, t):\n",
    "    plt.plot(t, u, 'k:')\n",
    "    plt.plot(t, x, 'r-')\n",
    "    plt.plot(t, y, 'b--')\n",
    "    plt.xlabel('time')\n",
    "    plt.legend(['u(t)', 'x1(t)', 'x2(t)'])\n",
    "    plt.show"
   ]
  },
  {
   "cell_type": "code",
   "execution_count": 9,
   "metadata": {},
   "outputs": [
    {
     "data": {
      "image/png": "[encoded data removed]",
      "text/plain": [
       "<Figure size 432x288 with 1 Axes>"
      ]
     },
     "metadata": {
      "needs_background": "light"
     },
     "output_type": "display_data"
    }
   ],
   "source": [
    "plot_result(x1, x2, u, t)"
   ]
  },
  {
   "cell_type": "code",
   "execution_count": null,
   "metadata": {},
   "outputs": [],
   "source": []
  }
 ],
 "metadata": {
  "kernelspec": {
   "display_name": "Python 3",
   "language": "python",
   "name": "python3"
  },
  "language_info": {
   "codemirror_mode": {
    "name": "ipython",
    "version": 3
   },
   "file_extension": ".py",
   "mimetype": "text/x-python",
   "name": "python",
   "nbconvert_exporter": "python",
   "pygments_lexer": "ipython3",
   "version": "3.8.5"
  }
 },
 "nbformat": 4,
 "nbformat_minor": 4
}
