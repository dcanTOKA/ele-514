{
 "cells": [
  {
   "cell_type": "code",
   "execution_count": 1,
   "metadata": {},
   "outputs": [],
   "source": [
    "import numpy as np\n",
    "import matplotlib.pyplot as plt"
   ]
  },
  {
   "cell_type": "code",
   "execution_count": 2,
   "metadata": {},
   "outputs": [],
   "source": [
    "def dx1(x1, x2, t):\n",
    "    return ( (-t) / (1 + t**2) ) * x1"
   ]
  },
  {
   "cell_type": "code",
   "execution_count": 3,
   "metadata": {},
   "outputs": [],
   "source": [
    "def dx2(x1, x2, t):\n",
    "    return ( (-4 * t) / (1 + t**2) ) * x2 + x1"
   ]
  },
  {
   "cell_type": "code",
   "execution_count": 4,
   "metadata": {},
   "outputs": [],
   "source": [
    "# time points and definition of unit step\n",
    "t = np.arange(0,5,0.1)\n",
    "h = 0.1\n",
    "n = len(t)\n",
    "#u = np.ones(n)\n",
    "#u[2:] = 0.0"
   ]
  },
  {
   "cell_type": "code",
   "execution_count": 5,
   "metadata": {},
   "outputs": [],
   "source": [
    "# define x1 and x2\n",
    "x1 = np.zeros(n)\n",
    "x2 = np.zeros(n)"
   ]
  },
  {
   "cell_type": "code",
   "execution_count": 6,
   "metadata": {},
   "outputs": [],
   "source": [
    "# define initial values\n",
    "x1[0] = 1.0\n",
    "x2[0] = 1.0"
   ]
  },
  {
   "cell_type": "code",
   "execution_count": 7,
   "metadata": {},
   "outputs": [
    {
     "name": "stdout",
     "output_type": "stream",
     "text": [
      "Iter : 1 --- x1 : 1.0 --- x2: 1.1 --- Time : 0.1\n",
      "Iter : 2 --- x1 : 0.9900990099009901 --- x2: 1.1564356435643566 --- Time : 0.2\n",
      "Iter : 3 --- x1 : 0.971058644325971 --- x2: 1.1664889565879666 --- Time : 0.30000000000000004\n",
      "Iter : 4 --- x1 : 0.9443322596197516 --- x2: 1.1351740184604207 --- Time : 0.4\n",
      "Iter : 5 --- x1 : 0.9117690782535534 --- x2: 1.0730315177382 --- Time : 0.5\n",
      "Iter : 6 --- x1 : 0.8752983151234113 --- x2: 0.9925233827254433 --- Time : 0.6000000000000001\n",
      "Iter : 7 --- x1 : 0.8366822129856137 --- x2: 0.9049020290509414 --- Time : 0.7000000000000001\n",
      "Iter : 8 --- x1 : 0.7973749949258869 --- x2: 0.8185215469036883 --- Time : 0.8\n",
      "Iter : 9 --- x1 : 0.75847865370999 --- x2: 0.7385475250492158 --- Time : 0.9\n",
      "Iter : 10 --- x1 : 0.7207642455144656 --- x2: 0.6675019600236858 --- Time : 1.0\n",
      "Iter : 11 --- x1 : 0.6847260332387424 --- x2: 0.6060779925703952 --- Time : 1.1\n",
      "Iter : 12 --- x1 : 0.6506446469689408 --- x2: 0.5538834842512949 --- Time : 1.2000000000000002\n",
      "Iter : 13 --- x1 : 0.6186457299048945 --- x2: 0.5099872635217046 --- Time : 1.3\n",
      "Iter : 14 --- x1 : 0.5887483526232453 --- x2: 0.4732669379875523 --- Time : 1.4000000000000001\n",
      "Iter : 15 --- x1 : 0.5609021467559296 --- x2: 0.44260478498196154 --- Time : 1.5\n",
      "Iter : 16 --- x1 : 0.5350143553671944 --- x2: 0.41698334704550005 --- Time : 1.6\n",
      "Iter : 17 --- x1 : 0.5109687663619272 --- x2: 0.39552148423696104 --- Time : 1.7000000000000002\n",
      "Iter : 18 --- x1 : 0.48863851179084045 --- x2: 0.37747835848725825 --- Time : 1.8\n",
      "Iter : 19 --- x1 : 0.46789442402613496 --- x2: 0.36224211105529847 --- Time : 1.9000000000000001\n",
      "Iter : 20 --- x1 : 0.44861027205976495 --- x2: 0.3493126804856719 --- Time : 2.0\n",
      "Iter : 21 --- x1 : 0.4306658611773744 --- x2: 0.3382836788139409 --- Time : 2.1\n",
      "Iter : 22 --- x1 : 0.41394870205588663 --- x2: 0.32882562718607566 --- Time : 2.2\n",
      "Iter : 23 --- x1 : 0.3983547441017265 --- x2: 0.32067143028143374 --- Time : 2.3000000000000003\n",
      "Iter : 24 --- x1 : 0.38378851339530407 --- x2: 0.31360424716236646 --- Time : 2.4000000000000004\n",
      "Iter : 25 --- x1 : 0.37016288570079625 --- x2: 0.307447584111975 --- Time : 2.5\n",
      "Iter : 26 --- x1 : 0.35739864826283774 --- x2: 0.30205730935626496 --- Time : 2.6\n",
      "Iter : 27 --- x1 : 0.3454239512849592 --- x2: 0.2973152667430493 --- Time : 2.7\n",
      "Iter : 28 --- x1 : 0.3341737140295986 --- x2: 0.2931241892439827 --- Time : 2.8000000000000003\n",
      "Iter : 29 --- x1 : 0.32358902625490543 --- x2: 0.2894036543173882 --- Time : 2.9000000000000004\n",
      "Iter : 30 --- x1 : 0.3136165695477936 --- x2: 0.28608686735646316 --- Time : 3.0\n",
      "Iter : 31 --- x1 : 0.3042080724613598 --- x2: 0.28311810022846695 --- Time : 3.1\n",
      "Iter : 32 --- x1 : 0.2953198064422249 --- x2: 0.280450646938948 --- Time : 3.2\n",
      "Iter : 33 --- x1 : 0.28691212512002634 --- x2: 0.27804518736236505 --- Time : 3.3000000000000003\n",
      "Iter : 34 --- x1 : 0.27894904679457566 --- x2: 0.27586847327064 --- Time : 3.4000000000000004\n",
      "Iter : 35 --- x1 : 0.2713978783303913 --- x2: 0.2738922693793913 --- Time : 3.5\n",
      "Iter : 36 --- x1 : 0.26422887777072057 --- x2: 0.27209249667423063 --- Time : 3.6\n",
      "Iter : 37 --- x1 : 0.25741495255600283 --- x2: 0.27044853665682617 --- Time : 3.7\n",
      "Iter : 38 --- x1 : 0.25093139010224375 --- x2: 0.2689426640259661 --- Time : 3.8000000000000003\n",
      "Iter : 39 --- x1 : 0.24475561754791392 --- x2: 0.2675595822253441 --- Time : 3.9000000000000004\n",
      "Iter : 40 --- x1 : 0.23886698763775435 --- x2: 0.26628604168084263 --- Time : 4.0\n",
      "Iter : 41 --- x1 : 0.23324658792863073 --- x2: 0.26511052475700936 --- Time : 4.1000000000000005\n",
      "Iter : 42 --- x1 : 0.22787707074442307 --- x2: 0.2640229847513606 --- Time : 4.2\n",
      "Iter : 43 --- x1 : 0.22274250155382985 --- x2: 0.2630146288224614 --- Time : 4.3\n",
      "Iter : 44 --- x1 : 0.21782822368476126 --- x2: 0.26207773677288626 --- Time : 4.4\n",
      "Iter : 45 --- x1 : 0.2131207375147566 --- x2: 0.26120550920421703 --- Time : 4.5\n",
      "Iter : 46 --- x1 : 0.20860759248503236 --- x2: 0.2603919398231002 --- Time : 4.6000000000000005\n",
      "Iter : 47 --- x1 : 0.20427729047496399 --- x2: 0.25963170767834964 --- Time : 4.7\n",
      "Iter : 48 --- x1 : 0.2001191992439881 --- x2: 0.2589200859057812 --- Time : 4.800000000000001\n",
      "Iter : 49 --- x1 : 0.19612347479984857 --- x2: 0.2582528641937782 --- Time : 4.9\n"
     ]
    }
   ],
   "source": [
    "# Euler method loop \n",
    "\n",
    "for i in range(1,n):\n",
    "    x1[i] = x1[i-1] + ( h * dx1(x1[i-1], x2[i-1], t[i-1]) )\n",
    "    x2[i] = x2[i-1] + ( h * dx2(x1[i-1], x2[i-1], t[i-1]) )\n",
    "    print(f'Iter : {i} --- x1 : {x1[i]} --- x2: {x2[i]} --- Time : {t[i]}')\n",
    "    "
   ]
  },
  {
   "cell_type": "code",
   "execution_count": 8,
   "metadata": {},
   "outputs": [],
   "source": [
    "def plot_result(x, y, t):\n",
    "    plt.plot(t, x, 'r-')\n",
    "    plt.plot(t, y, 'b--')\n",
    "    plt.xlabel('time')\n",
    "    plt.legend(['x1(t)', 'x2(t)'])\n",
    "    plt.show"
   ]
  },
  {
   "cell_type": "code",
   "execution_count": 10,
   "metadata": {},
   "outputs": [
    {
     "data": {
      "image/png": "[encoded data removed]",
      "text/plain": [
       "<Figure size 432x288 with 1 Axes>"
      ]
     },
     "metadata": {
      "needs_background": "light"
     },
     "output_type": "display_data"
    }
   ],
   "source": [
    "plot_result(x1, x2, t)"
   ]
  },
  {
   "cell_type": "code",
   "execution_count": null,
   "metadata": {},
   "outputs": [],
   "source": []
  }
 ],
 "metadata": {
  "kernelspec": {
   "display_name": "Python 3",
   "language": "python",
   "name": "python3"
  },
  "language_info": {
   "codemirror_mode": {
    "name": "ipython",
    "version": 3
   },
   "file_extension": ".py",
   "mimetype": "text/x-python",
   "name": "python",
   "nbconvert_exporter": "python",
   "pygments_lexer": "ipython3",
   "version": "3.8.5"
  }
 },
 "nbformat": 4,
 "nbformat_minor": 4
}
