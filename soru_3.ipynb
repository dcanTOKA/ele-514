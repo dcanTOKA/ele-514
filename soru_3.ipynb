{
 "cells": [
  {
   "cell_type": "code",
   "execution_count": 1,
   "metadata": {},
   "outputs": [],
   "source": [
    "import numpy as np\n",
    "import matplotlib.pyplot as plt"
   ]
  },
  {
   "cell_type": "code",
   "execution_count": 2,
   "metadata": {},
   "outputs": [],
   "source": [
    "def dx1(x1, x2, u):\n",
    "    return 0.5 * x1 + u"
   ]
  },
  {
   "cell_type": "code",
   "execution_count": 3,
   "metadata": {},
   "outputs": [],
   "source": [
    "def dx2(x1, x2, u):\n",
    "    return x2 - (x1 * u) + (2 * (u**2))"
   ]
  },
  {
   "cell_type": "code",
   "execution_count": 4,
   "metadata": {},
   "outputs": [],
   "source": [
    "# time points and definition of unit step\n",
    "k = np.arange(0,11,1)\n",
    "h = 1\n",
    "n = len(k)\n",
    "u = np.ones(n) * 5"
   ]
  },
  {
   "cell_type": "code",
   "execution_count": 5,
   "metadata": {},
   "outputs": [],
   "source": [
    "# define x1 and x2\n",
    "x1 = np.zeros(n)\n",
    "x2 = np.zeros(n)"
   ]
  },
  {
   "cell_type": "code",
   "execution_count": 6,
   "metadata": {},
   "outputs": [],
   "source": [
    "# define initial values\n",
    "x1[0] = 1.0\n",
    "x2[0] = 1.0"
   ]
  },
  {
   "cell_type": "code",
   "execution_count": 7,
   "metadata": {},
   "outputs": [
    {
     "name": "stdout",
     "output_type": "stream",
     "text": [
      "Iter : 1 --- x1 : 5.5 --- x2: 46.0 --- Time : 1\n",
      "Iter : 2 --- x1 : 7.75 --- x2: 68.5 --- Time : 2\n",
      "Iter : 3 --- x1 : 8.875 --- x2: 79.75 --- Time : 3\n",
      "Iter : 4 --- x1 : 9.4375 --- x2: 85.375 --- Time : 4\n",
      "Iter : 5 --- x1 : 9.71875 --- x2: 88.1875 --- Time : 5\n",
      "Iter : 6 --- x1 : 9.859375 --- x2: 89.59375 --- Time : 6\n",
      "Iter : 7 --- x1 : 9.9296875 --- x2: 90.296875 --- Time : 7\n",
      "Iter : 8 --- x1 : 9.96484375 --- x2: 90.6484375 --- Time : 8\n",
      "Iter : 9 --- x1 : 9.982421875 --- x2: 90.82421875 --- Time : 9\n",
      "Iter : 10 --- x1 : 9.9912109375 --- x2: 90.912109375 --- Time : 10\n"
     ]
    }
   ],
   "source": [
    "# Euler method loop \n",
    "\n",
    "for i in range(1,n):\n",
    "    x1[i] = ( dx1(x1[i-1], x2[i-1], u[i-1]) )\n",
    "    x2[i] = ( dx2(x1[i-1], x2[i-1], u[i-1]) )\n",
    "    print(f'Iter : {i} --- x1 : {x1[i]} --- x2: {x2[i]} --- Time : {k[i]}')\n",
    "    "
   ]
  },
  {
   "cell_type": "code",
   "execution_count": 8,
   "metadata": {},
   "outputs": [],
   "source": [
    "# Helper method to plot the result\n",
    "\n",
    "def plot_result(x, y, u, k):\n",
    "    plt.scatter(k, u)\n",
    "    plt.scatter(k, x)\n",
    "    plt.scatter(k, y)\n",
    "    plt.xlabel('discrete time')\n",
    "    plt.legend(['u_g(k)', 'x1(k)', 'x2(k)'])\n",
    "    plt.show"
   ]
  },
  {
   "cell_type": "code",
   "execution_count": 9,
   "metadata": {},
   "outputs": [
    {
     "data": {
      "image/png": "[encoded data removed]",
      "text/plain": [
       "<Figure size 432x288 with 1 Axes>"
      ]
     },
     "metadata": {
      "needs_background": "light"
     },
     "output_type": "display_data"
    }
   ],
   "source": [
    "plot_result(x1, x2, u, k)"
   ]
  },
  {
   "cell_type": "code",
   "execution_count": null,
   "metadata": {},
   "outputs": [],
   "source": []
  }
 ],
 "metadata": {
  "kernelspec": {
   "display_name": "Python 3",
   "language": "python",
   "name": "python3"
  },
  "language_info": {
   "codemirror_mode": {
    "name": "ipython",
    "version": 3
   },
   "file_extension": ".py",
   "mimetype": "text/x-python",
   "name": "python",
   "nbconvert_exporter": "python",
   "pygments_lexer": "ipython3",
   "version": "3.8.5"
  }
 },
 "nbformat": 4,
 "nbformat_minor": 4
}
