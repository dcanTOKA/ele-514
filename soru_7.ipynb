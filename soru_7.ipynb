{
 "cells": [
  {
   "cell_type": "code",
   "execution_count": 2,
   "metadata": {},
   "outputs": [],
   "source": [
    "import numpy as np\n",
    "import sympy as sym"
   ]
  },
  {
   "cell_type": "code",
   "execution_count": 6,
   "metadata": {},
   "outputs": [],
   "source": [
    "A = np.array([ [0 , 0 ,  1 , 0],[3 , 0 , -3 , 1],[-1 , 1 , 4 , -1],[1 , 0 , -1 , 0]])\n",
    "B = np.array([[0 , 0],[1 , 0],[0 , 1],[0,  0]])\n",
    "C = np.array([[1 , 0 , 0 , 0],[0,  0,  0,  1]])"
   ]
  },
  {
   "cell_type": "code",
   "execution_count": 7,
   "metadata": {},
   "outputs": [],
   "source": [
    "I = np.eye(4)"
   ]
  },
  {
   "cell_type": "code",
   "execution_count": 9,
   "metadata": {},
   "outputs": [],
   "source": [
    "s = sym.symbols('s')"
   ]
  },
  {
   "cell_type": "code",
   "execution_count": 12,
   "metadata": {},
   "outputs": [
    {
     "data": {
      "text/plain": [
       "array([[1.0*s, 0, -1, 0],\n",
       "       [-3, 1.0*s, 3, -1],\n",
       "       [1, -1, 1.0*s - 4, 1],\n",
       "       [-1, 0, 1, 1.0*s]], dtype=object)"
      ]
     },
     "execution_count": 12,
     "metadata": {},
     "output_type": "execute_result"
    }
   ],
   "source": [
    "s * I - A"
   ]
  },
  {
   "cell_type": "code",
   "execution_count": 13,
   "metadata": {},
   "outputs": [
    {
     "data": {
      "text/latex": [
       "$\\displaystyle \\left[\\begin{matrix}1.0 s & 0 & -1 & 0\\\\-3 & 1.0 s & 3 & -1\\\\1 & -1 & 1.0 s - 4 & 1\\\\-1 & 0 & 1 & 1.0 s\\end{matrix}\\right]$"
      ],
      "text/plain": [
       "Matrix([\n",
       "[1.0*s,     0,        -1,     0],\n",
       "[   -3, 1.0*s,         3,    -1],\n",
       "[    1,    -1, 1.0*s - 4,     1],\n",
       "[   -1,     0,         1, 1.0*s]])"
      ]
     },
     "execution_count": 13,
     "metadata": {},
     "output_type": "execute_result"
    }
   ],
   "source": [
    "matrix = sym.Matrix(s * I - A)\n",
    "matrix"
   ]
  },
  {
   "cell_type": "code",
   "execution_count": 17,
   "metadata": {},
   "outputs": [],
   "source": [
    "H_S = C * matrix.inv() * B"
   ]
  },
  {
   "cell_type": "code",
   "execution_count": 18,
   "metadata": {},
   "outputs": [
    {
     "data": {
      "text/latex": [
       "$\\displaystyle \\left[\\begin{matrix}\\frac{81.0 s}{81.0 s^{4} - 324.0 s^{3} + 243.0 s^{2} - 81.0 s - 81.0} & \\frac{81.0 s^{2}}{81.0 s^{4} - 324.0 s^{3} + 243.0 s^{2} - 81.0 s - 81.0}\\\\\\frac{9.0 \\left(s - 1\\right)}{- 9.0 s^{4} + 36.0 s^{3} - 27.0 s^{2} + 9.0 s + 9.0} & \\frac{9.0 s \\left(s - 1\\right)}{- 9.0 s^{4} + 36.0 s^{3} - 27.0 s^{2} + 9.0 s + 9.0}\\end{matrix}\\right]$"
      ],
      "text/plain": [
       "Matrix([\n",
       "[ 81.0*s/(81.0*s**4 - 324.0*s**3 + 243.0*s**2 - 81.0*s - 81.0), 81.0*s**2/(81.0*s**4 - 324.0*s**3 + 243.0*s**2 - 81.0*s - 81.0)],\n",
       "[9.0*(s - 1)/(-9.0*s**4 + 36.0*s**3 - 27.0*s**2 + 9.0*s + 9.0), 9.0*s*(s - 1)/(-9.0*s**4 + 36.0*s**3 - 27.0*s**2 + 9.0*s + 9.0)]])"
      ]
     },
     "execution_count": 18,
     "metadata": {},
     "output_type": "execute_result"
    }
   ],
   "source": [
    "sym.simplify(H_S)"
   ]
  },
  {
   "cell_type": "code",
   "execution_count": null,
   "metadata": {},
   "outputs": [],
   "source": []
  }
 ],
 "metadata": {
  "kernelspec": {
   "display_name": "Python 3",
   "language": "python",
   "name": "python3"
  },
  "language_info": {
   "codemirror_mode": {
    "name": "ipython",
    "version": 3
   },
   "file_extension": ".py",
   "mimetype": "text/x-python",
   "name": "python",
   "nbconvert_exporter": "python",
   "pygments_lexer": "ipython3",
   "version": "3.8.5"
  }
 },
 "nbformat": 4,
 "nbformat_minor": 4
}
